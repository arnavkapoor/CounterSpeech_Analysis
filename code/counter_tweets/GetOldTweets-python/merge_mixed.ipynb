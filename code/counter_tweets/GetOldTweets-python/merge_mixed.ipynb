{
 "cells": [
  {
   "cell_type": "code",
   "execution_count": 1,
   "metadata": {},
   "outputs": [],
   "source": [
    "import pandas as pd"
   ]
  },
  {
   "cell_type": "code",
   "execution_count": 2,
   "metadata": {},
   "outputs": [
    {
     "data": {
      "text/html": [
       "<div>\n",
       "<style scoped>\n",
       "    .dataframe tbody tr th:only-of-type {\n",
       "        vertical-align: middle;\n",
       "    }\n",
       "\n",
       "    .dataframe tbody tr th {\n",
       "        vertical-align: top;\n",
       "    }\n",
       "\n",
       "    .dataframe thead th {\n",
       "        text-align: right;\n",
       "    }\n",
       "</style>\n",
       "<table border=\"1\" class=\"dataframe\">\n",
       "  <thead>\n",
       "    <tr style=\"text-align: right;\">\n",
       "      <th></th>\n",
       "      <th>Tweet_ID</th>\n",
       "      <th>category</th>\n",
       "      <th>hate_users</th>\n",
       "      <th>creation_date</th>\n",
       "    </tr>\n",
       "    <tr>\n",
       "      <th>Index</th>\n",
       "      <th></th>\n",
       "      <th></th>\n",
       "      <th></th>\n",
       "      <th></th>\n",
       "    </tr>\n",
       "  </thead>\n",
       "  <tbody>\n",
       "    <tr>\n",
       "      <th>0</th>\n",
       "      <td>847503045961236482</td>\n",
       "      <td>+</td>\n",
       "      <td>@Gummybeardaddy</td>\n",
       "      <td>2017-03-30 17:37:26</td>\n",
       "    </tr>\n",
       "    <tr>\n",
       "      <th>1</th>\n",
       "      <td>848377709361287168</td>\n",
       "      <td>+</td>\n",
       "      <td>@arkieman66</td>\n",
       "      <td>2017-04-02 03:33:02</td>\n",
       "    </tr>\n",
       "    <tr>\n",
       "      <th>2</th>\n",
       "      <td>847600211224477696</td>\n",
       "      <td>+</td>\n",
       "      <td>@mark_abadi</td>\n",
       "      <td>2017-03-31 00:03:32</td>\n",
       "    </tr>\n",
       "    <tr>\n",
       "      <th>3</th>\n",
       "      <td>849469625087799297</td>\n",
       "      <td>+</td>\n",
       "      <td>@Briiannareed</td>\n",
       "      <td>2017-04-05 03:51:55</td>\n",
       "    </tr>\n",
       "    <tr>\n",
       "      <th>4</th>\n",
       "      <td>848295484217114624</td>\n",
       "      <td>+</td>\n",
       "      <td>@witty_whitters</td>\n",
       "      <td>2017-04-01 22:06:18</td>\n",
       "    </tr>\n",
       "  </tbody>\n",
       "</table>\n",
       "</div>"
      ],
      "text/plain": [
       "                 Tweet_ID category       hate_users        creation_date\n",
       "Index                                                                   \n",
       "0      847503045961236482        +  @Gummybeardaddy  2017-03-30 17:37:26\n",
       "1      848377709361287168        +      @arkieman66  2017-04-02 03:33:02\n",
       "2      847600211224477696        +      @mark_abadi  2017-03-31 00:03:32\n",
       "3      849469625087799297        +    @Briiannareed  2017-04-05 03:51:55\n",
       "4      848295484217114624        +  @witty_whitters  2017-04-01 22:06:18"
      ]
     },
     "execution_count": 2,
     "metadata": {},
     "output_type": "execute_result"
    }
   ],
   "source": [
    "df = pd.read_csv(\"./data/abusive_tweets_compile.csv\",index_col=[0])\n",
    "df.head()"
   ]
  },
  {
   "cell_type": "code",
   "execution_count": 3,
   "metadata": {},
   "outputs": [],
   "source": [
    "df2 = pd.read_csv('./output/missed.txt', sep=\" \", header=None)\n",
    "df2.columns = [\"Tweet_ID\"]"
   ]
  },
  {
   "cell_type": "code",
   "execution_count": 4,
   "metadata": {},
   "outputs": [
    {
     "data": {
      "text/plain": [
       "(60638, 4)"
      ]
     },
     "execution_count": 4,
     "metadata": {},
     "output_type": "execute_result"
    }
   ],
   "source": [
    "df2.head()\n",
    "df.shape"
   ]
  },
  {
   "cell_type": "code",
   "execution_count": 5,
   "metadata": {},
   "outputs": [],
   "source": [
    "op = pd.merge(df,df2)"
   ]
  },
  {
   "cell_type": "code",
   "execution_count": 6,
   "metadata": {},
   "outputs": [
    {
     "data": {
      "text/plain": [
       "(22752, 4)"
      ]
     },
     "execution_count": 6,
     "metadata": {},
     "output_type": "execute_result"
    }
   ],
   "source": [
    "op.shape"
   ]
  },
  {
   "cell_type": "code",
   "execution_count": 7,
   "metadata": {},
   "outputs": [
    {
     "data": {
      "text/html": [
       "<div>\n",
       "<style scoped>\n",
       "    .dataframe tbody tr th:only-of-type {\n",
       "        vertical-align: middle;\n",
       "    }\n",
       "\n",
       "    .dataframe tbody tr th {\n",
       "        vertical-align: top;\n",
       "    }\n",
       "\n",
       "    .dataframe thead th {\n",
       "        text-align: right;\n",
       "    }\n",
       "</style>\n",
       "<table border=\"1\" class=\"dataframe\">\n",
       "  <thead>\n",
       "    <tr style=\"text-align: right;\">\n",
       "      <th></th>\n",
       "      <th>Tweet_ID</th>\n",
       "      <th>category</th>\n",
       "      <th>hate_users</th>\n",
       "      <th>creation_date</th>\n",
       "    </tr>\n",
       "  </thead>\n",
       "  <tbody>\n",
       "    <tr>\n",
       "      <th>0</th>\n",
       "      <td>849811553125838849</td>\n",
       "      <td>+</td>\n",
       "      <td>@DLoesch</td>\n",
       "      <td>2017-04-06 02:30:37</td>\n",
       "    </tr>\n",
       "    <tr>\n",
       "      <th>1</th>\n",
       "      <td>849467859298377728</td>\n",
       "      <td>+</td>\n",
       "      <td>@chasing_urdream</td>\n",
       "      <td>2017-04-05 03:44:54</td>\n",
       "    </tr>\n",
       "    <tr>\n",
       "      <th>2</th>\n",
       "      <td>848463516415647744</td>\n",
       "      <td>+</td>\n",
       "      <td>@dwnews</td>\n",
       "      <td>2017-04-02 09:14:00</td>\n",
       "    </tr>\n",
       "    <tr>\n",
       "      <th>3</th>\n",
       "      <td>849738907818262534</td>\n",
       "      <td>+</td>\n",
       "      <td>@ThePriscilla</td>\n",
       "      <td>2017-04-05 21:41:57</td>\n",
       "    </tr>\n",
       "    <tr>\n",
       "      <th>4</th>\n",
       "      <td>849001997936275458</td>\n",
       "      <td>+</td>\n",
       "      <td>@Iovskh</td>\n",
       "      <td>2017-04-03 20:53:44</td>\n",
       "    </tr>\n",
       "  </tbody>\n",
       "</table>\n",
       "</div>"
      ],
      "text/plain": [
       "             Tweet_ID category        hate_users        creation_date\n",
       "0  849811553125838849        +          @DLoesch  2017-04-06 02:30:37\n",
       "1  849467859298377728        +  @chasing_urdream  2017-04-05 03:44:54\n",
       "2  848463516415647744        +           @dwnews  2017-04-02 09:14:00\n",
       "3  849738907818262534        +     @ThePriscilla  2017-04-05 21:41:57\n",
       "4  849001997936275458        +           @Iovskh  2017-04-03 20:53:44"
      ]
     },
     "execution_count": 7,
     "metadata": {},
     "output_type": "execute_result"
    }
   ],
   "source": [
    "op.head()"
   ]
  },
  {
   "cell_type": "code",
   "execution_count": 8,
   "metadata": {},
   "outputs": [],
   "source": [
    "op.to_csv(\"./data/abusive_tweets_compile2.csv\")"
   ]
  },
  {
   "cell_type": "code",
   "execution_count": null,
   "metadata": {},
   "outputs": [],
   "source": []
  }
 ],
 "metadata": {
  "kernelspec": {
   "display_name": "Python 3",
   "language": "python",
   "name": "python3"
  },
  "language_info": {
   "codemirror_mode": {
    "name": "ipython",
    "version": 3
   },
   "file_extension": ".py",
   "mimetype": "text/x-python",
   "name": "python",
   "nbconvert_exporter": "python",
   "pygments_lexer": "ipython3",
   "version": "3.6.8"
  }
 },
 "nbformat": 4,
 "nbformat_minor": 2
}
