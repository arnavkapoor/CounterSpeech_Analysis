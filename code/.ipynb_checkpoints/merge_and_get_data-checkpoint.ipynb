{
 "cells": [
  {
   "cell_type": "code",
   "execution_count": 1,
   "metadata": {},
   "outputs": [],
   "source": [
    "import tweepy\n",
    "import json\n",
    "import math\n",
    "from datetime import datetime, timedelta\n",
    "from pprint import pprint\n",
    "import csv\n",
    "from tqdm import tqdm\n",
    "import sys\n",
    "import pandas as pd\n",
    "\n",
    "api_details = {\n",
    "\"consumer_key\" : \"sxmfWBPf7D2RPj5xzF1sQEnVv\",\n",
    "\"consumer_secret\" : \"ZaweN39f3Bc0BFa4vawZmDxkxG3zRwog5YdxLUpyFQWacPfRjy\",\n",
    "\"access_token\" : \"1111593376804028416-Ghl8gXlGdQclqEqMwRRO3Kl8MNMq7a\",\n",
    "\"access_token_secret\" : \"kU2N2hyzsWVXteD5wrVTLQaHnycRkQjXvMXGHSlviggZ4\",\n",
    "\"in_use\" : False,\n",
    "\"rate_limit_hit\" : False,\n",
    "\"error_status\" : False\n",
    "}\n",
    "\n",
    "keys = []\n",
    "keys.append(api_details)\n",
    "\n",
    "api_details = {\n",
    "\"consumer_key\" : \"DgenSt0OxyaCcMuuJyMCdkJGd\",\n",
    "\"consumer_secret\" : \"o1lDfV4AG0tWufIHXGtjY6bNSuAdrSL9hJs4onZRDvEKNMS9t8\",\n",
    "\"access_token\" : \"1111593376804028416-yhGKowC8Xpd8HNUDNeS7fjjKsZyreT\",\n",
    "\"access_token_secret\" : \"bfJX8z1PrIcsui8W5CuUDBB48ii3pcA9TRKSMw4sadCdn\",\n",
    "\"in_use\" : False,\n",
    "\"rate_limit_hit\" : False,\n",
    "\"error_status\" : False\n",
    "}\n",
    "\n",
    "keys.append(api_details)\n",
    "\n",
    "api_details = {\n",
    "\"consumer_key\" : \"xr4UfffLzPLCf1cEaqnApY5lQ\",\n",
    "\"consumer_secret\" : \"DWjWu0VrD0uOuOmT0W4muH6CXai1pfHi6aqvGQHt2XOu1Yp9qw\",\n",
    "\"access_token\" : \"1111593376804028416-zowDK4z6cLjWk5QOEUbFRxUzg1aYsJ\",\n",
    "\"access_token_secret\" : \"m9c5cpiKu5WXHUhFLTTLFT7t9k7Nbryvt9qbCjfSSXka7\",\n",
    "\"in_use\" : False,\n",
    "\"rate_limit_hit\" : False,\n",
    "\"error_status\" : False\n",
    "}\n",
    "\n",
    "keys.append(api_details)\n",
    "\n",
    "api_details = {\n",
    "\"consumer_key\" : \"9yJjSm8dTF3ZwCUg9jqKdryqF\",\n",
    "\"consumer_secret\" : \"VCr4QQwuKpokF2DOOYRUb7jOQQrAubJrMzDJZrcKrRfqRVkiYp\",\n",
    "\"access_token\" : \"1111593376804028416-Au6KVQjK8C10ufJ4l16ZUNrU6EMbEH\",\n",
    "\"access_token_secret\" : \"UqrjjE5uyD0gMO1Pswsvy5oXwhe07hVhvLMJYVGQnfsZR\",\n",
    "\"in_use\" : False,\n",
    "\"rate_limit_hit\" : False,\n",
    "\"error_status\" : False\n",
    "}\n",
    "\n",
    "keys.append(api_details)\n",
    "\n",
    "def doauth(index):\n",
    "    auth = tweepy.OAuthHandler(keys[index]['consumer_key'], keys[index]['consumer_secret'])\n",
    "    auth.set_access_token(keys[index]['access_token'], keys[index]['access_token_secret'])\n",
    "    api = tweepy.API(auth)\n",
    "    return api\n",
    "\n",
    "idx = 0\n",
    "\n",
    "try:\n",
    "    api = doauth(idx)\n",
    "except:\n",
    "    idx += 1\n",
    "    idx %= len(keys)\n",
    "    api = doauth(idx)"
   ]
  },
  {
   "cell_type": "code",
   "execution_count": 78,
   "metadata": {},
   "outputs": [],
   "source": [
    "df1 = pd.read_csv('./output/nuanced_hate.txt')\n",
    "df2 = pd.read_csv('./dataset/Hate_Counter_Dataset.csv')"
   ]
  },
  {
   "cell_type": "code",
   "execution_count": 79,
   "metadata": {},
   "outputs": [],
   "source": [
    "names=[\"Hate_ID\" , \"Counter_ID\"]\n",
    "df1.columns = names\n",
    "df2.columns = names"
   ]
  },
  {
   "cell_type": "code",
   "execution_count": 116,
   "metadata": {},
   "outputs": [],
   "source": [
    "df3 = pd.concat([df1, df2])"
   ]
  },
  {
   "cell_type": "code",
   "execution_count": 105,
   "metadata": {},
   "outputs": [
    {
     "data": {
      "text/plain": [
       "(2652, 3)"
      ]
     },
     "execution_count": 105,
     "metadata": {},
     "output_type": "execute_result"
    }
   ],
   "source": [
    "hate_tweets  = df3[\"Hate_ID\"]\n",
    "reply_tweets = df3[\"Counter_ID\"]"
   ]
  },
  {
   "cell_type": "code",
   "execution_count": 110,
   "metadata": {},
   "outputs": [],
   "source": [
    "orig_data = pd.read_csv(\"./dataset/NAACL_SRW_2016.csv\")"
   ]
  },
  {
   "cell_type": "code",
   "execution_count": 111,
   "metadata": {},
   "outputs": [
    {
     "data": {
      "text/html": [
       "<div>\n",
       "<style scoped>\n",
       "    .dataframe tbody tr th:only-of-type {\n",
       "        vertical-align: middle;\n",
       "    }\n",
       "\n",
       "    .dataframe tbody tr th {\n",
       "        vertical-align: top;\n",
       "    }\n",
       "\n",
       "    .dataframe thead th {\n",
       "        text-align: right;\n",
       "    }\n",
       "</style>\n",
       "<table border=\"1\" class=\"dataframe\">\n",
       "  <thead>\n",
       "    <tr style=\"text-align: right;\">\n",
       "      <th></th>\n",
       "      <th>Tweet_ID</th>\n",
       "      <th>category</th>\n",
       "    </tr>\n",
       "  </thead>\n",
       "  <tbody>\n",
       "    <tr>\n",
       "      <th>0</th>\n",
       "      <td>572342978255048705</td>\n",
       "      <td>racism</td>\n",
       "    </tr>\n",
       "    <tr>\n",
       "      <th>1</th>\n",
       "      <td>572341498827522049</td>\n",
       "      <td>racism</td>\n",
       "    </tr>\n",
       "    <tr>\n",
       "      <th>2</th>\n",
       "      <td>572340476503724032</td>\n",
       "      <td>racism</td>\n",
       "    </tr>\n",
       "    <tr>\n",
       "      <th>3</th>\n",
       "      <td>572334712804384768</td>\n",
       "      <td>racism</td>\n",
       "    </tr>\n",
       "    <tr>\n",
       "      <th>4</th>\n",
       "      <td>572332655397629952</td>\n",
       "      <td>racism</td>\n",
       "    </tr>\n",
       "  </tbody>\n",
       "</table>\n",
       "</div>"
      ],
      "text/plain": [
       "             Tweet_ID category\n",
       "0  572342978255048705   racism\n",
       "1  572341498827522049   racism\n",
       "2  572340476503724032   racism\n",
       "3  572334712804384768   racism\n",
       "4  572332655397629952   racism"
      ]
     },
     "execution_count": 111,
     "metadata": {},
     "output_type": "execute_result"
    }
   ],
   "source": [
    "orig_data.head()"
   ]
  },
  {
   "cell_type": "code",
   "execution_count": 130,
   "metadata": {},
   "outputs": [],
   "source": [
    "final_op = df3.join(orig_data.set_index('Tweet_ID'),on='Hate_ID')"
   ]
  },
  {
   "cell_type": "code",
   "execution_count": 131,
   "metadata": {},
   "outputs": [],
   "source": [
    "final_op.to_csv(\"final_data_merged.csv\",index=False)"
   ]
  },
  {
   "cell_type": "code",
   "execution_count": 132,
   "metadata": {},
   "outputs": [],
   "source": [
    "df = pd.read_csv(\"final_data_merged.csv\")"
   ]
  },
  {
   "cell_type": "code",
   "execution_count": 133,
   "metadata": {},
   "outputs": [],
   "source": [
    "hate_id = df[\"Hate_ID\"]\n",
    "counter_id = df[\"Counter_ID\"]"
   ]
  },
  {
   "cell_type": "code",
   "execution_count": null,
   "metadata": {},
   "outputs": [],
   "source": [
    "cnt = 0\n",
    "n_keys = 3\n",
    "\n",
    "hate_texts = []\n",
    "counter_texts = []\n",
    "\n",
    "for vals in hate_id:\n",
    "    api = doauth(cnt%n_keys)\n",
    "    cnt += 1\n",
    "    maxi = 10\n",
    "    retries = 0\n",
    "    print(cnt)\n",
    "    while retries < maxi:\n",
    "        retries += 1\n",
    "        try:\n",
    "            mdata = api.get_status(vals,tweet_mode='extended')\n",
    "            mvals = mdata._json\n",
    "            hate_texts.append(mvals['full_text'])\n",
    "            break\n",
    "        except:\n",
    "            continue\n",
    "    \n",
    "    \n",
    "for vals in counter_id:\n",
    "    api = doauth(cnt%n_keys)\n",
    "    cnt += 1\n",
    "    maxi = 10\n",
    "    retries = 0\n",
    "    while retries < maxi:\n",
    "        retries += 1\n",
    "        try:\n",
    "            mdata = api.get_status(vals,tweet_mode='extended')\n",
    "            mvals = mdata._json\n",
    "            counter_texts.append(mvals['full_text'])\n",
    "            break\n",
    "        except:\n",
    "            continue"
   ]
  },
  {
   "cell_type": "code",
   "execution_count": 156,
   "metadata": {},
   "outputs": [
    {
     "ename": "SyntaxError",
     "evalue": "invalid syntax (<ipython-input-156-e4a262281b09>, line 1)",
     "output_type": "error",
     "traceback": [
      "\u001b[0;36m  File \u001b[0;32m\"<ipython-input-156-e4a262281b09>\"\u001b[0;36m, line \u001b[0;32m1\u001b[0m\n\u001b[0;31m    df[\"Hate_text\"] =\u001b[0m\n\u001b[0m                      ^\u001b[0m\n\u001b[0;31mSyntaxError\u001b[0m\u001b[0;31m:\u001b[0m invalid syntax\n"
     ]
    }
   ],
   "source": [
    "df[\"Hate_text\"]  =  hate_texts\n",
    "df[\"Counter_text\"]  = counter_texts"
   ]
  },
  {
   "cell_type": "code",
   "execution_count": null,
   "metadata": {},
   "outputs": [],
   "source": []
  }
 ],
 "metadata": {
  "kernelspec": {
   "display_name": "Python 3",
   "language": "python",
   "name": "python3"
  },
  "language_info": {
   "codemirror_mode": {
    "name": "ipython",
    "version": 3
   },
   "file_extension": ".py",
   "mimetype": "text/x-python",
   "name": "python",
   "nbconvert_exporter": "python",
   "pygments_lexer": "ipython3",
   "version": "3.6.8"
  }
 },
 "nbformat": 4,
 "nbformat_minor": 2
}
