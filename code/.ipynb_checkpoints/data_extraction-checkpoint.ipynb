{
 "cells": [
  {
   "cell_type": "code",
   "execution_count": 1,
   "metadata": {},
   "outputs": [],
   "source": [
    "import tweepy\n",
    "import json\n",
    "import math\n",
    "from datetime import datetime, timedelta\n",
    "from pprint import pprint\n",
    "import csv\n",
    "from tqdm import tqdm\n",
    "import sys\n",
    "import pandas as pd"
   ]
  },
  {
   "cell_type": "code",
   "execution_count": 2,
   "metadata": {},
   "outputs": [],
   "source": [
    "api_details = {\n",
    "\"consumer_key\" : \"sxmfWBPf7D2RPj5xzF1sQEnVv\",\n",
    "\"consumer_secret\" : \"ZaweN39f3Bc0BFa4vawZmDxkxG3zRwog5YdxLUpyFQWacPfRjy\",\n",
    "\"access_token\" : \"1111593376804028416-Ghl8gXlGdQclqEqMwRRO3Kl8MNMq7a\",\n",
    "\"access_token_secret\" : \"kU2N2hyzsWVXteD5wrVTLQaHnycRkQjXvMXGHSlviggZ4\",\n",
    "\"in_use\" : False,\n",
    "\"rate_limit_hit\" : False,\n",
    "\"error_status\" : False\n",
    "}\n",
    "\n",
    "keys = []\n",
    "keys.append(api_details)\n",
    "\n",
    "api_details = {\n",
    "\"consumer_key\" : \"DgenSt0OxyaCcMuuJyMCdkJGd\",\n",
    "\"consumer_secret\" : \"o1lDfV4AG0tWufIHXGtjY6bNSuAdrSL9hJs4onZRDvEKNMS9t8\",\n",
    "\"access_token\" : \"1111593376804028416-yhGKowC8Xpd8HNUDNeS7fjjKsZyreT\",\n",
    "\"access_token_secret\" : \"bfJX8z1PrIcsui8W5CuUDBB48ii3pcA9TRKSMw4sadCdn\",\n",
    "\"in_use\" : False,\n",
    "\"rate_limit_hit\" : False,\n",
    "\"error_status\" : False\n",
    "}\n",
    "\n",
    "keys.append(api_details)\n",
    "\n",
    "api_details = {\n",
    "\"consumer_key\" : \"xr4UfffLzPLCf1cEaqnApY5lQ\",\n",
    "\"consumer_secret\" : \"DWjWu0VrD0uOuOmT0W4muH6CXai1pfHi6aqvGQHt2XOu1Yp9qw\",\n",
    "\"access_token\" : \"1111593376804028416-zowDK4z6cLjWk5QOEUbFRxUzg1aYsJ\",\n",
    "\"access_token_secret\" : \"m9c5cpiKu5WXHUhFLTTLFT7t9k7Nbryvt9qbCjfSSXka7\",\n",
    "\"in_use\" : False,\n",
    "\"rate_limit_hit\" : False,\n",
    "\"error_status\" : False\n",
    "}\n",
    "\n",
    "keys.append(api_details)\n",
    "\n",
    "api_details = {\n",
    "\"consumer_key\" : \"9yJjSm8dTF3ZwCUg9jqKdryqF\",\n",
    "\"consumer_secret\" : \"VCr4QQwuKpokF2DOOYRUb7jOQQrAubJrMzDJZrcKrRfqRVkiYp\",\n",
    "\"access_token\" : \"1111593376804028416-Au6KVQjK8C10ufJ4l16ZUNrU6EMbEH\",\n",
    "\"access_token_secret\" : \"UqrjjE5uyD0gMO1Pswsvy5oXwhe07hVhvLMJYVGQnfsZR\",\n",
    "\"in_use\" : False,\n",
    "\"rate_limit_hit\" : False,\n",
    "\"error_status\" : False\n",
    "}"
   ]
  },
  {
   "cell_type": "code",
   "execution_count": 3,
   "metadata": {},
   "outputs": [],
   "source": [
    "keys.append(api_details)\n",
    "\n",
    "def doauth(index):\n",
    "    auth = tweepy.OAuthHandler(keys[index]['consumer_key'], keys[index]['consumer_secret'])\n",
    "    auth.set_access_token(keys[index]['access_token'], keys[index]['access_token_secret'])\n",
    "    api = tweepy.API(auth)\n",
    "    return api\n",
    "\n",
    "idx = 0"
   ]
  },
  {
   "cell_type": "code",
   "execution_count": 4,
   "metadata": {},
   "outputs": [],
   "source": [
    "try:\n",
    "    api = doauth(idx)\n",
    "except:\n",
    "    idx += 1\n",
    "    idx %= len(keys)\n",
    "    api = doauth(idx)"
   ]
  },
  {
   "cell_type": "code",
   "execution_count": 5,
   "metadata": {},
   "outputs": [],
   "source": [
    "df = pd.read_csv(\"./dataset/Hate_Counter_Dataset.csv\")\n",
    "df2 = pd.read_csv(\"./dataset/NAACL_SRW_2016.csv\")"
   ]
  },
  {
   "cell_type": "code",
   "execution_count": 6,
   "metadata": {},
   "outputs": [],
   "source": [
    "hate_tweets = df[\"Hate_IDs\"]\n",
    "counter_tweets = df[\"Counter_IDs\"]"
   ]
  },
  {
   "cell_type": "code",
   "execution_count": 7,
   "metadata": {},
   "outputs": [],
   "source": [
    "# search_res = api.search(\"i hate gays\",lang='en',tweet_mode='extended')"
   ]
  },
  {
   "cell_type": "code",
   "execution_count": 7,
   "metadata": {},
   "outputs": [],
   "source": [
    "# for vals in search_res:\n",
    "#     print(vals.full_text,vals.id)\n",
    "\n",
    "race_sexism_ids = df2[\"Tweet_ID\"]\n",
    "category = df2[\"category\"]"
   ]
  },
  {
   "cell_type": "code",
   "execution_count": 8,
   "metadata": {},
   "outputs": [
    {
     "data": {
      "text/plain": [
       "none      11559\n",
       "sexism     3378\n",
       "racism     1970\n",
       "Name: category, dtype: int64"
      ]
     },
     "execution_count": 8,
     "metadata": {},
     "output_type": "execute_result"
    }
   ],
   "source": [
    "df2['category'].value_counts()"
   ]
  },
  {
   "cell_type": "code",
   "execution_count": 9,
   "metadata": {},
   "outputs": [],
   "source": [
    "available = []"
   ]
  },
  {
   "cell_type": "code",
   "execution_count": 9,
   "metadata": {},
   "outputs": [
    {
     "name": "stdout",
     "output_type": "stream",
     "text": [
      "1\n"
     ]
    },
    {
     "ename": "NameError",
     "evalue": "name 'available' is not defined",
     "output_type": "error",
     "traceback": [
      "\u001b[0;31m---------------------------------------------------------------------------\u001b[0m",
      "\u001b[0;31mNameError\u001b[0m                                 Traceback (most recent call last)",
      "\u001b[0;32m<ipython-input-9-fab61ff393e3>\u001b[0m in \u001b[0;36m<module>\u001b[0;34m\u001b[0m\n\u001b[1;32m      8\u001b[0m         \u001b[0mhate_tw\u001b[0m \u001b[0;34m=\u001b[0m \u001b[0mapi\u001b[0m\u001b[0;34m.\u001b[0m\u001b[0mget_status\u001b[0m\u001b[0;34m(\u001b[0m\u001b[0mrace_sexism_ids\u001b[0m\u001b[0;34m[\u001b[0m\u001b[0mi\u001b[0m\u001b[0;34m]\u001b[0m\u001b[0;34m)\u001b[0m\u001b[0;34m\u001b[0m\u001b[0;34m\u001b[0m\u001b[0m\n\u001b[0;32m----> 9\u001b[0;31m         \u001b[0mavailable\u001b[0m\u001b[0;34m.\u001b[0m\u001b[0mappend\u001b[0m\u001b[0;34m(\u001b[0m\u001b[0;36m1\u001b[0m\u001b[0;34m)\u001b[0m\u001b[0;34m\u001b[0m\u001b[0;34m\u001b[0m\u001b[0m\n\u001b[0m\u001b[1;32m     10\u001b[0m \u001b[0;31m#         print(hate_tw.text)\u001b[0m\u001b[0;34m\u001b[0m\u001b[0;34m\u001b[0m\u001b[0;34m\u001b[0m\u001b[0m\n",
      "\u001b[0;31mNameError\u001b[0m: name 'available' is not defined",
      "\nDuring handling of the above exception, another exception occurred:\n",
      "\u001b[0;31mNameError\u001b[0m                                 Traceback (most recent call last)",
      "\u001b[0;32m<ipython-input-9-fab61ff393e3>\u001b[0m in \u001b[0;36m<module>\u001b[0;34m\u001b[0m\n\u001b[1;32m     13\u001b[0m         \u001b[0mcnt\u001b[0m \u001b[0;34m+=\u001b[0m \u001b[0;36m1\u001b[0m\u001b[0;34m\u001b[0m\u001b[0;34m\u001b[0m\u001b[0m\n\u001b[1;32m     14\u001b[0m         \u001b[0mprint\u001b[0m\u001b[0;34m(\u001b[0m\u001b[0mcnt\u001b[0m\u001b[0;34m)\u001b[0m\u001b[0;34m\u001b[0m\u001b[0;34m\u001b[0m\u001b[0m\n\u001b[0;32m---> 15\u001b[0;31m         \u001b[0mavailable\u001b[0m\u001b[0;34m.\u001b[0m\u001b[0mappend\u001b[0m\u001b[0;34m(\u001b[0m\u001b[0;36m0\u001b[0m\u001b[0;34m)\u001b[0m\u001b[0;34m\u001b[0m\u001b[0;34m\u001b[0m\u001b[0m\n\u001b[0m\u001b[1;32m     16\u001b[0m         \u001b[0;32mcontinue\u001b[0m\u001b[0;34m\u001b[0m\u001b[0;34m\u001b[0m\u001b[0m\n",
      "\u001b[0;31mNameError\u001b[0m: name 'available' is not defined"
     ]
    }
   ],
   "source": [
    "cnt = 0\n",
    "n_keys = 3\n",
    "\n",
    "for i,_ in enumerate(hate_tweets):\n",
    "    api = doauth(cnt%n_keys)\n",
    "    cnt+=1\n",
    "    try:\n",
    "        hate_tw = api.get_status(hate_tweets[i])\n",
    "        available.append(1)\n",
    "#         print(hate_tw.text)\n",
    "#         print(category[i],hate_tw.id)\n",
    "    except:\n",
    "        available.append(0)\n",
    "        print(missing,race_sexism_ids[])\n",
    "        continue"
   ]
  },
  {
   "cell_type": "code",
   "execution_count": null,
   "metadata": {},
   "outputs": [],
   "source": []
  }
 ],
 "metadata": {
  "kernelspec": {
   "display_name": "Python 3",
   "language": "python",
   "name": "python3"
  },
  "language_info": {
   "codemirror_mode": {
    "name": "ipython",
    "version": 3
   },
   "file_extension": ".py",
   "mimetype": "text/x-python",
   "name": "python",
   "nbconvert_exporter": "python",
   "pygments_lexer": "ipython3",
   "version": "3.6.8"
  }
 },
 "nbformat": 4,
 "nbformat_minor": 2
}
